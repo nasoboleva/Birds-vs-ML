{
 "cells": [
  {
   "cell_type": "code",
   "execution_count": 1,
   "metadata": {
    "collapsed": true
   },
   "outputs": [],
   "source": [
    "import pandas as pd\n",
    "import numpy as np\n"
   ]
  },
  {
   "cell_type": "code",
   "execution_count": 2,
   "metadata": {
    "collapsed": false
   },
   "outputs": [
    {
     "data": {
      "text/html": [
       "<div>\n",
       "<style scoped>\n",
       "    .dataframe tbody tr th:only-of-type {\n",
       "        vertical-align: middle;\n",
       "    }\n",
       "\n",
       "    .dataframe tbody tr th {\n",
       "        vertical-align: top;\n",
       "    }\n",
       "\n",
       "    .dataframe thead th {\n",
       "        text-align: right;\n",
       "    }\n",
       "</style>\n",
       "<table border=\"1\" class=\"dataframe\">\n",
       "  <thead>\n",
       "    <tr style=\"text-align: right;\">\n",
       "      <th></th>\n",
       "      <th>Recording_ID</th>\n",
       "      <th>Country</th>\n",
       "      <th>Latitude</th>\n",
       "      <th>Longitude</th>\n",
       "      <th>Vocalization_type</th>\n",
       "      <th>Quality</th>\n",
       "      <th>Time</th>\n",
       "    </tr>\n",
       "  </thead>\n",
       "  <tbody>\n",
       "    <tr>\n",
       "      <th>0</th>\n",
       "      <td>441880</td>\n",
       "      <td>Netherlands</td>\n",
       "      <td>52.1468</td>\n",
       "      <td>5.3788</td>\n",
       "      <td>alarm call</td>\n",
       "      <td>no score</td>\n",
       "      <td>09:00</td>\n",
       "    </tr>\n",
       "    <tr>\n",
       "      <th>1</th>\n",
       "      <td>440223</td>\n",
       "      <td>France</td>\n",
       "      <td>42.6080</td>\n",
       "      <td>8.8610</td>\n",
       "      <td>call</td>\n",
       "      <td>no score</td>\n",
       "      <td>09:30</td>\n",
       "    </tr>\n",
       "    <tr>\n",
       "      <th>2</th>\n",
       "      <td>440205</td>\n",
       "      <td>Netherlands</td>\n",
       "      <td>52.1331</td>\n",
       "      <td>5.0489</td>\n",
       "      <td>begging call</td>\n",
       "      <td>no score</td>\n",
       "      <td>14:00</td>\n",
       "    </tr>\n",
       "    <tr>\n",
       "      <th>3</th>\n",
       "      <td>439558</td>\n",
       "      <td>France</td>\n",
       "      <td>49.6682</td>\n",
       "      <td>-1.4283</td>\n",
       "      <td>song</td>\n",
       "      <td>no score</td>\n",
       "      <td>18:00</td>\n",
       "    </tr>\n",
       "    <tr>\n",
       "      <th>4</th>\n",
       "      <td>439316</td>\n",
       "      <td>France</td>\n",
       "      <td>42.6080</td>\n",
       "      <td>8.8610</td>\n",
       "      <td>call</td>\n",
       "      <td>no score</td>\n",
       "      <td>11:00</td>\n",
       "    </tr>\n",
       "  </tbody>\n",
       "</table>\n",
       "</div>"
      ],
      "text/plain": [
       "   Recording_ID      Country  Latitude  Longitude Vocalization_type   Quality  \\\n",
       "0        441880  Netherlands   52.1468     5.3788        alarm call  no score   \n",
       "1        440223       France   42.6080     8.8610              call  no score   \n",
       "2        440205  Netherlands   52.1331     5.0489      begging call  no score   \n",
       "3        439558       France   49.6682    -1.4283              song  no score   \n",
       "4        439316       France   42.6080     8.8610              call  no score   \n",
       "\n",
       "    Time  \n",
       "0  09:00  \n",
       "1  09:30  \n",
       "2  14:00  \n",
       "3  18:00  \n",
       "4  11:00  "
      ]
     },
     "execution_count": 2,
     "metadata": {},
     "output_type": "execute_result"
    }
   ],
   "source": [
    "data = pd.read_csv('greattit.csv').drop(['Unnamed: 0', 'Genus', 'Specific_epithet', 'Subspecies', 'English_name', 'Recordist', \n",
    "                                        'Locality', 'Audio_file', 'License', 'Url', 'Date'], axis=1)\n",
    "data.head()"
   ]
  },
  {
   "cell_type": "code",
   "execution_count": 3,
   "metadata": {
    "collapsed": false
   },
   "outputs": [],
   "source": [
    "data = data.dropna(subset=['Vocalization_type'])"
   ]
  },
  {
   "cell_type": "code",
   "execution_count": 4,
   "metadata": {
    "collapsed": false
   },
   "outputs": [
    {
     "name": "stderr",
     "output_type": "stream",
     "text": [
      "/usr/local/lib/python3.5/dist-packages/ipykernel/__main__.py:2: SettingWithCopyWarning: \n",
      "A value is trying to be set on a copy of a slice from a DataFrame.\n",
      "Try using .loc[row_indexer,col_indexer] = value instead\n",
      "\n",
      "See the caveats in the documentation: http://pandas.pydata.org/pandas-docs/stable/indexing.html#indexing-view-versus-copy\n",
      "  from ipykernel import kernelapp as app\n"
     ]
    }
   ],
   "source": [
    "binary_data = data.loc[data.Vocalization_type.str.contains('song') != data.Vocalization_type.str.contains('call')]\n",
    "binary_data['labels'] = binary_data.Vocalization_type.str.contains('call').astype('int')"
   ]
  },
  {
   "cell_type": "code",
   "execution_count": 5,
   "metadata": {
    "collapsed": false
   },
   "outputs": [
    {
     "data": {
      "text/plain": [
       "0.6265389876880985"
      ]
     },
     "execution_count": 5,
     "metadata": {},
     "output_type": "execute_result"
    }
   ],
   "source": [
    "binary_data['labels'].sum() / len(binary_data)"
   ]
  },
  {
   "cell_type": "code",
   "execution_count": 6,
   "metadata": {
    "collapsed": true
   },
   "outputs": [],
   "source": [
    "from scipy.stats import skew\n",
    "import os\n",
    "import librosa\n",
    "\n",
    "def get_mfcc(name, path):\n",
    "    try:\n",
    "        b, _ = librosa.core.load(path + str(name) + '.wav')\n",
    "    except:\n",
    "        try:\n",
    "            b, _ = librosa.core.load(path + '-' + str(name) + '.wav')\n",
    "        except:\n",
    "            return pd.Series([0] * 425)\n",
    "        \n",
    "    ft1 = librosa.feature.mfcc(b, n_mfcc=80)\n",
    "    ft2 = librosa.feature.zero_crossing_rate(b)[0]\n",
    "    ft3 = librosa.feature.spectral_rolloff(b)[0]\n",
    "    ft4 = librosa.feature.spectral_centroid(b)[0]\n",
    "    ft5 = librosa.feature.spectral_contrast(b)[0]\n",
    "    ft6 = librosa.feature.spectral_bandwidth(b)[0]\n",
    "    ft1_trunc = np.hstack((np.mean(ft1, axis=1), np.std(ft1, axis=1), skew(ft1, axis = 1), np.max(ft1, axis = 1), np.min(ft1, axis = 1)))\n",
    "    ft2_trunc = np.hstack((np.mean(ft2), np.std(ft2), skew(ft2), np.max(ft2), np.min(ft2)))\n",
    "    ft3_trunc = np.hstack((np.mean(ft3), np.std(ft3), skew(ft3), np.max(ft3), np.min(ft3)))\n",
    "    ft4_trunc = np.hstack((np.mean(ft4), np.std(ft4), skew(ft4), np.max(ft4), np.min(ft4)))\n",
    "    ft5_trunc = np.hstack((np.mean(ft5), np.std(ft5), skew(ft5), np.max(ft5), np.min(ft5)))\n",
    "    ft6_trunc = np.hstack((np.mean(ft6), np.std(ft6), skew(ft6), np.max(ft6), np.min(ft6)))\n",
    "    return pd.Series(np.hstack((ft1_trunc, ft2_trunc, ft3_trunc, ft4_trunc, ft5_trunc, ft6_trunc)))"
   ]
  },
  {
   "cell_type": "code",
   "execution_count": 7,
   "metadata": {
    "collapsed": false
   },
   "outputs": [],
   "source": [
    "train_data = pd.DataFrame()\n",
    "train_data['Recording_ID'] = binary_data['Recording_ID']"
   ]
  },
  {
   "cell_type": "code",
   "execution_count": 8,
   "metadata": {
    "collapsed": false,
    "scrolled": false
   },
   "outputs": [
    {
     "name": "stderr",
     "output_type": "stream",
     "text": [
      "100%|██████████| 3655/3655 [5:23:18<00:00,  5.01s/it]\n"
     ]
    }
   ],
   "source": [
    "from tqdm import tqdm, tqdm_pandas\n",
    "\n",
    "tqdm.pandas()\n",
    "train_data = train_data['Recording_ID'].progress_apply(get_mfcc, path='./sounds/')"
   ]
  },
  {
   "cell_type": "code",
   "execution_count": 12,
   "metadata": {
    "collapsed": false
   },
   "outputs": [
    {
     "data": {
      "text/html": [
       "<div>\n",
       "<style scoped>\n",
       "    .dataframe tbody tr th:only-of-type {\n",
       "        vertical-align: middle;\n",
       "    }\n",
       "\n",
       "    .dataframe tbody tr th {\n",
       "        vertical-align: top;\n",
       "    }\n",
       "\n",
       "    .dataframe thead th {\n",
       "        text-align: right;\n",
       "    }\n",
       "</style>\n",
       "<table border=\"1\" class=\"dataframe\">\n",
       "  <thead>\n",
       "    <tr style=\"text-align: right;\">\n",
       "      <th></th>\n",
       "      <th>0</th>\n",
       "      <th>1</th>\n",
       "      <th>2</th>\n",
       "      <th>3</th>\n",
       "      <th>4</th>\n",
       "      <th>5</th>\n",
       "      <th>6</th>\n",
       "      <th>7</th>\n",
       "      <th>8</th>\n",
       "      <th>9</th>\n",
       "      <th>...</th>\n",
       "      <th>417</th>\n",
       "      <th>418</th>\n",
       "      <th>419</th>\n",
       "      <th>420</th>\n",
       "      <th>421</th>\n",
       "      <th>422</th>\n",
       "      <th>423</th>\n",
       "      <th>424</th>\n",
       "      <th>id</th>\n",
       "      <th>labels</th>\n",
       "    </tr>\n",
       "  </thead>\n",
       "  <tbody>\n",
       "    <tr>\n",
       "      <th>0</th>\n",
       "      <td>-436.514074</td>\n",
       "      <td>127.301726</td>\n",
       "      <td>18.283442</td>\n",
       "      <td>-6.818973</td>\n",
       "      <td>-0.517332</td>\n",
       "      <td>17.952541</td>\n",
       "      <td>10.912547</td>\n",
       "      <td>12.669348</td>\n",
       "      <td>6.394881</td>\n",
       "      <td>10.341830</td>\n",
       "      <td>...</td>\n",
       "      <td>0.726950</td>\n",
       "      <td>23.723413</td>\n",
       "      <td>7.819720</td>\n",
       "      <td>2475.112147</td>\n",
       "      <td>213.669915</td>\n",
       "      <td>2.583432</td>\n",
       "      <td>3428.771732</td>\n",
       "      <td>2161.574903</td>\n",
       "      <td>441880</td>\n",
       "      <td>1</td>\n",
       "    </tr>\n",
       "    <tr>\n",
       "      <th>1</th>\n",
       "      <td>-239.074620</td>\n",
       "      <td>19.287065</td>\n",
       "      <td>-68.560588</td>\n",
       "      <td>-18.418223</td>\n",
       "      <td>-21.925773</td>\n",
       "      <td>-7.657923</td>\n",
       "      <td>-15.589265</td>\n",
       "      <td>-4.075395</td>\n",
       "      <td>-15.764188</td>\n",
       "      <td>-4.112783</td>\n",
       "      <td>...</td>\n",
       "      <td>1.208634</td>\n",
       "      <td>50.550359</td>\n",
       "      <td>4.978101</td>\n",
       "      <td>2434.314219</td>\n",
       "      <td>269.386657</td>\n",
       "      <td>-1.763712</td>\n",
       "      <td>3057.348932</td>\n",
       "      <td>1179.227306</td>\n",
       "      <td>440223</td>\n",
       "      <td>1</td>\n",
       "    </tr>\n",
       "    <tr>\n",
       "      <th>2</th>\n",
       "      <td>-367.704830</td>\n",
       "      <td>-31.474539</td>\n",
       "      <td>-108.760128</td>\n",
       "      <td>-90.779177</td>\n",
       "      <td>-75.426763</td>\n",
       "      <td>-23.981639</td>\n",
       "      <td>-25.067120</td>\n",
       "      <td>11.283314</td>\n",
       "      <td>3.798569</td>\n",
       "      <td>27.655528</td>\n",
       "      <td>...</td>\n",
       "      <td>0.626702</td>\n",
       "      <td>23.814826</td>\n",
       "      <td>1.402700</td>\n",
       "      <td>2309.327586</td>\n",
       "      <td>215.807624</td>\n",
       "      <td>-0.914716</td>\n",
       "      <td>2801.966575</td>\n",
       "      <td>1618.665418</td>\n",
       "      <td>440205</td>\n",
       "      <td>1</td>\n",
       "    </tr>\n",
       "    <tr>\n",
       "      <th>3</th>\n",
       "      <td>-508.650269</td>\n",
       "      <td>-38.546771</td>\n",
       "      <td>-95.776263</td>\n",
       "      <td>4.488206</td>\n",
       "      <td>-46.348091</td>\n",
       "      <td>-5.754554</td>\n",
       "      <td>-7.404113</td>\n",
       "      <td>-8.611265</td>\n",
       "      <td>-5.022680</td>\n",
       "      <td>3.629960</td>\n",
       "      <td>...</td>\n",
       "      <td>0.300264</td>\n",
       "      <td>38.912805</td>\n",
       "      <td>0.829720</td>\n",
       "      <td>1789.832920</td>\n",
       "      <td>508.838089</td>\n",
       "      <td>-0.666589</td>\n",
       "      <td>2693.892107</td>\n",
       "      <td>660.609600</td>\n",
       "      <td>439558</td>\n",
       "      <td>0</td>\n",
       "    </tr>\n",
       "    <tr>\n",
       "      <th>4</th>\n",
       "      <td>-321.269150</td>\n",
       "      <td>-76.923236</td>\n",
       "      <td>-119.413991</td>\n",
       "      <td>-13.216269</td>\n",
       "      <td>-21.198838</td>\n",
       "      <td>-4.078821</td>\n",
       "      <td>-5.427807</td>\n",
       "      <td>-1.305652</td>\n",
       "      <td>1.698714</td>\n",
       "      <td>5.166934</td>\n",
       "      <td>...</td>\n",
       "      <td>-0.470492</td>\n",
       "      <td>39.343142</td>\n",
       "      <td>3.233353</td>\n",
       "      <td>2138.560642</td>\n",
       "      <td>441.305899</td>\n",
       "      <td>-1.505895</td>\n",
       "      <td>2716.800178</td>\n",
       "      <td>872.997235</td>\n",
       "      <td>439316</td>\n",
       "      <td>1</td>\n",
       "    </tr>\n",
       "  </tbody>\n",
       "</table>\n",
       "<p>5 rows × 427 columns</p>\n",
       "</div>"
      ],
      "text/plain": [
       "            0           1           2          3          4          5  \\\n",
       "0 -436.514074  127.301726   18.283442  -6.818973  -0.517332  17.952541   \n",
       "1 -239.074620   19.287065  -68.560588 -18.418223 -21.925773  -7.657923   \n",
       "2 -367.704830  -31.474539 -108.760128 -90.779177 -75.426763 -23.981639   \n",
       "3 -508.650269  -38.546771  -95.776263   4.488206 -46.348091  -5.754554   \n",
       "4 -321.269150  -76.923236 -119.413991 -13.216269 -21.198838  -4.078821   \n",
       "\n",
       "           6          7          8          9   ...         417        418  \\\n",
       "0  10.912547  12.669348   6.394881  10.341830   ...    0.726950  23.723413   \n",
       "1 -15.589265  -4.075395 -15.764188  -4.112783   ...    1.208634  50.550359   \n",
       "2 -25.067120  11.283314   3.798569  27.655528   ...    0.626702  23.814826   \n",
       "3  -7.404113  -8.611265  -5.022680   3.629960   ...    0.300264  38.912805   \n",
       "4  -5.427807  -1.305652   1.698714   5.166934   ...   -0.470492  39.343142   \n",
       "\n",
       "        419          420         421       422          423          424  \\\n",
       "0  7.819720  2475.112147  213.669915  2.583432  3428.771732  2161.574903   \n",
       "1  4.978101  2434.314219  269.386657 -1.763712  3057.348932  1179.227306   \n",
       "2  1.402700  2309.327586  215.807624 -0.914716  2801.966575  1618.665418   \n",
       "3  0.829720  1789.832920  508.838089 -0.666589  2693.892107   660.609600   \n",
       "4  3.233353  2138.560642  441.305899 -1.505895  2716.800178   872.997235   \n",
       "\n",
       "       id  labels  \n",
       "0  441880       1  \n",
       "1  440223       1  \n",
       "2  440205       1  \n",
       "3  439558       0  \n",
       "4  439316       1  \n",
       "\n",
       "[5 rows x 427 columns]"
      ]
     },
     "execution_count": 12,
     "metadata": {},
     "output_type": "execute_result"
    }
   ],
   "source": [
    "train_data['id'] = binary_data['Recording_ID']\n",
    "train_data['labels'] = binary_data['labels']\n",
    "train_data.head()"
   ]
  },
  {
   "cell_type": "code",
   "execution_count": null,
   "metadata": {
    "collapsed": true
   },
   "outputs": [],
   "source": [
    "train_data.to_csv('train_data.')"
   ]
  }
 ],
 "metadata": {
  "kernelspec": {
   "display_name": "Python 3",
   "language": "python",
   "name": "python3"
  },
  "language_info": {
   "codemirror_mode": {
    "name": "ipython",
    "version": 3
   },
   "file_extension": ".py",
   "mimetype": "text/x-python",
   "name": "python",
   "nbconvert_exporter": "python",
   "pygments_lexer": "ipython3",
   "version": "3.5.2"
  }
 },
 "nbformat": 4,
 "nbformat_minor": 1
}
